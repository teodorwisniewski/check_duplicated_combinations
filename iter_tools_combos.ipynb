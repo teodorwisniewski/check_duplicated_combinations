{
 "cells": [
  {
   "cell_type": "code",
   "execution_count": 1,
   "source": [
    "import pandas as pd\r\n",
    "from itertools import combinations\r\n",
    "from collections import Counter"
   ],
   "outputs": [],
   "metadata": {}
  },
  {
   "cell_type": "code",
   "execution_count": 3,
   "source": [
    "df = pd.read_clipboard()"
   ],
   "outputs": [],
   "metadata": {}
  },
  {
   "cell_type": "code",
   "execution_count": 19,
   "source": [
    "df['geoma_nnid'].unique()"
   ],
   "outputs": [
    {
     "output_type": "execute_result",
     "data": {
      "text/plain": [
       "array(['DEBKGGND00000018', 'DEBKGGND00000025', 'DEBKGGND0000004V', ...,\n",
       "       'DEBKGGND00000UA2', 'DEBKGGND00000770', 'DEBKGGND00000O58'],\n",
       "      dtype=object)"
      ]
     },
     "metadata": {},
     "execution_count": 19
    }
   ],
   "metadata": {}
  },
  {
   "cell_type": "code",
   "execution_count": 22,
   "source": [
    "\r\n",
    "uniques = df['geoma_nnid'].unique()\r\n"
   ],
   "outputs": [],
   "metadata": {}
  },
  {
   "cell_type": "code",
   "execution_count": 20,
   "source": [
    "uniques['Grouped'] = uniques.groupby('geoma_nnid')['geomb_nnid'].transform(lambda x: ','.join(x)) # transform is similar to apply, but also allows string function and a list of functions\r\n",
    "uniques['Grouped']"
   ],
   "outputs": [
    {
     "output_type": "stream",
     "name": "stderr",
     "text": [
      "<ipython-input-20-a15d6bda1f78>:1: SettingWithCopyWarning: \n",
      "A value is trying to be set on a copy of a slice from a DataFrame.\n",
      "Try using .loc[row_indexer,col_indexer] = value instead\n",
      "\n",
      "See the caveats in the documentation: https://pandas.pydata.org/pandas-docs/stable/user_guide/indexing.html#returning-a-view-versus-a-copy\n",
      "  uniques['Grouped'] = uniques.groupby('geoma_nnid')['geomb_nnid'].transform(lambda x: ','.join(x)) # transform is similar to apply, but also allows string function and a list of functions\n"
     ]
    },
    {
     "output_type": "execute_result",
     "data": {
      "text/plain": [
       "36                       DEBKGGND0000050R,DEBKGGND00000QTI\n",
       "37                       DEBKGGND0000050R,DEBKGGND00000QTI\n",
       "38                       DEBKGGND000002M3,DEBKGGND000006HE\n",
       "39                       DEBKGGND000002M3,DEBKGGND000006HE\n",
       "42       DEBKGGND00000IZJ,DEBKGGND00000ENR,DEBKGGND0000...\n",
       "                               ...                        \n",
       "11847                    DEBKGGND00000TZZ,DEBKGGND00000911\n",
       "11849                    DEBKGGND00003I9Z,DEBKGGND00005M1H\n",
       "11850                    DEBKGGND00003I9Z,DEBKGGND00005M1H\n",
       "11853                    DEBKGGND00000C81,DEBKGGND00000T1O\n",
       "11854                    DEBKGGND00000C81,DEBKGGND00000T1O\n",
       "Name: Grouped, Length: 3613, dtype: object"
      ]
     },
     "metadata": {},
     "execution_count": 20
    }
   ],
   "metadata": {}
  },
  {
   "cell_type": "code",
   "execution_count": null,
   "source": [
    "uniques_no_dups = uniques[['geoma_nnid', 'Grouped']].drop_duplicates()\r\n",
    "print(uniques_no_dups)"
   ],
   "outputs": [],
   "metadata": {}
  },
  {
   "cell_type": "code",
   "execution_count": 5,
   "source": [
    "count = Counter()\r\n",
    "for row in uniques_no_dups['Grouped']:\r\n",
    "    row_list = row.split(',') # split each row into two elements by splitting at the comma\r\n",
    "    count.update(Counter(combinations(row_list,2)))\r\n",
    "\r\n",
    "for key, value in count.most_common(10):\r\n",
    "    print(key,value)"
   ],
   "outputs": [
    {
     "output_type": "stream",
     "name": "stdout",
     "text": [
      "('DEBKGGND000063UV', 'DEBKGGND000063UU') 3\n",
      "('DEBKGGND00000Q53', 'DEBKGGND00000K5B') 3\n",
      "('DEBKGGND000002M3', 'DEBKGGND000006HE') 2\n",
      "('DEBKGGND000003BA', 'DEBKGGND00005M01') 2\n",
      "('DEBKGGND00003ILZ', 'DEBKGGND00000494') 2\n",
      "('DEBKGGND00000JAB', 'DEBKGGND00000RC3') 2\n",
      "('DEBKGGND00000GZO', 'DEBKGGND00000KRR') 2\n",
      "('DEBKGGND0000000O', 'DEBKGGND000000EE') 2\n",
      "('DEBKGGND00000E2P', 'DEBKGGND00000N7P') 2\n",
      "('DEBKGGND00003F7A', 'DEBKGGND0000075V') 2\n"
     ]
    }
   ],
   "metadata": {}
  },
  {
   "cell_type": "code",
   "execution_count": 13,
   "source": [
    "df[(df['geoma_nnid'] == 'DEBKGGND000063UV') & (df['geomb_nnid'] == 'DEBKGGND000063UU')]"
   ],
   "outputs": [
    {
     "output_type": "execute_result",
     "data": {
      "text/plain": [
       "             geoma_nnid        geomb_nnid\n",
       "10064  DEBKGGND000063UV  DEBKGGND000063UU"
      ],
      "text/html": [
       "<div>\n",
       "<style scoped>\n",
       "    .dataframe tbody tr th:only-of-type {\n",
       "        vertical-align: middle;\n",
       "    }\n",
       "\n",
       "    .dataframe tbody tr th {\n",
       "        vertical-align: top;\n",
       "    }\n",
       "\n",
       "    .dataframe thead th {\n",
       "        text-align: right;\n",
       "    }\n",
       "</style>\n",
       "<table border=\"1\" class=\"dataframe\">\n",
       "  <thead>\n",
       "    <tr style=\"text-align: right;\">\n",
       "      <th></th>\n",
       "      <th>geoma_nnid</th>\n",
       "      <th>geomb_nnid</th>\n",
       "    </tr>\n",
       "  </thead>\n",
       "  <tbody>\n",
       "    <tr>\n",
       "      <th>10064</th>\n",
       "      <td>DEBKGGND000063UV</td>\n",
       "      <td>DEBKGGND000063UU</td>\n",
       "    </tr>\n",
       "  </tbody>\n",
       "</table>\n",
       "</div>"
      ]
     },
     "metadata": {},
     "execution_count": 13
    }
   ],
   "metadata": {}
  },
  {
   "cell_type": "code",
   "execution_count": 14,
   "source": [
    "df[(df['geomb_nnid'] == 'DEBKGGND000063UV') & (df['geoma_nnid'] == 'DEBKGGND000063UU')]"
   ],
   "outputs": [
    {
     "output_type": "execute_result",
     "data": {
      "text/plain": [
       "             geoma_nnid        geomb_nnid\n",
       "11060  DEBKGGND000063UU  DEBKGGND000063UV"
      ],
      "text/html": [
       "<div>\n",
       "<style scoped>\n",
       "    .dataframe tbody tr th:only-of-type {\n",
       "        vertical-align: middle;\n",
       "    }\n",
       "\n",
       "    .dataframe tbody tr th {\n",
       "        vertical-align: top;\n",
       "    }\n",
       "\n",
       "    .dataframe thead th {\n",
       "        text-align: right;\n",
       "    }\n",
       "</style>\n",
       "<table border=\"1\" class=\"dataframe\">\n",
       "  <thead>\n",
       "    <tr style=\"text-align: right;\">\n",
       "      <th></th>\n",
       "      <th>geoma_nnid</th>\n",
       "      <th>geomb_nnid</th>\n",
       "    </tr>\n",
       "  </thead>\n",
       "  <tbody>\n",
       "    <tr>\n",
       "      <th>11060</th>\n",
       "      <td>DEBKGGND000063UU</td>\n",
       "      <td>DEBKGGND000063UV</td>\n",
       "    </tr>\n",
       "  </tbody>\n",
       "</table>\n",
       "</div>"
      ]
     },
     "metadata": {},
     "execution_count": 14
    }
   ],
   "metadata": {}
  },
  {
   "cell_type": "code",
   "execution_count": 24,
   "source": [
    "df.to_csv('C:/Users/adp/Documents/Python Scripts/dgfo2101/combinations.csv')"
   ],
   "outputs": [],
   "metadata": {}
  }
 ],
 "metadata": {
  "orig_nbformat": 4,
  "language_info": {
   "name": "python",
   "version": "3.8.8",
   "mimetype": "text/x-python",
   "codemirror_mode": {
    "name": "ipython",
    "version": 3
   },
   "pygments_lexer": "ipython3",
   "nbconvert_exporter": "python",
   "file_extension": ".py"
  },
  "kernelspec": {
   "name": "python3",
   "display_name": "Python 3.8.8 64-bit ('base': conda)"
  },
  "interpreter": {
   "hash": "b3ba2566441a7c06988d0923437866b63cedc61552a5af99d1f4fb67d367b25f"
  }
 },
 "nbformat": 4,
 "nbformat_minor": 2
}